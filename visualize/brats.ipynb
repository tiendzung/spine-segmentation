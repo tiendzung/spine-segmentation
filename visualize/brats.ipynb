{
 "cells": [
  {
   "cell_type": "code",
   "execution_count": 1,
   "metadata": {},
   "outputs": [],
   "source": [
    "import SimpleITK as sitk\n",
    "import nibabel\n",
    "import numpy as np\n",
    "from itkwidgets import view"
   ]
  },
  {
   "cell_type": "code",
   "execution_count": 2,
   "metadata": {},
   "outputs": [
    {
     "name": "stdout",
     "output_type": "stream",
     "text": [
      "\u001b[0;31mSignature:\u001b[0m \u001b[0mview\u001b[0m\u001b[0;34m(\u001b[0m\u001b[0mdata\u001b[0m\u001b[0;34m=\u001b[0m\u001b[0;32mNone\u001b[0m\u001b[0;34m,\u001b[0m \u001b[0;34m**\u001b[0m\u001b[0mkwargs\u001b[0m\u001b[0;34m)\u001b[0m\u001b[0;34m\u001b[0m\u001b[0;34m\u001b[0m\u001b[0m\n",
      "\u001b[0;31mDocstring:\u001b[0m\n",
      "View the image and/or point set.\n",
      "\n",
      "Creates and returns an ImJoy plugin ipywidget to visualize an image, and/or\n",
      "point set.\n",
      "\n",
      "The image can be 2D or 3D. The type of the image can be an numpy.array,\n",
      "itkwasm.Image, itk.Image, additional NumPy-arraylike's, such as a dask.Array,\n",
      "or vtk.vtkImageData.\n",
      "\n",
      "A point set can be visualized. The type of the point set can be an\n",
      "numpy.array (Nx3 array of point positions).\n",
      "\n",
      "Parameters\n",
      "----------\n",
      "\n",
      "### General Interface\n",
      "\n",
      ":param ui_collapsed: Collapse the native widget user interface. default: True\n",
      ":type  ui_collapsed: bool\n",
      "\n",
      ":param rotate: Continuously rotate the camera around the scene in volume rendering mode. default: False\n",
      ":type  rotate: bool\n",
      "\n",
      ":param annotations: Display annotations describing orientation and the value of a mouse-position-based data probe. default: True\n",
      ":type  annotations: bool\n",
      "\n",
      ":param axes: Display axes. default: False\n",
      ":type  axes: bool\n",
      "\n",
      ":param bg_color: Background color. default: based on the current Jupyter theme\n",
      ":type  bg_color: (red, green, blue) tuple, components from 0.0 to 1.0\n",
      "\n",
      ":param container_style: The CSS style for the rendering view `div`'s.\n",
      ":type  container_style: dict\n",
      "\n",
      "### Images\n",
      "\n",
      ":param image: The image to visualize.\n",
      ":type  image: array_like, itk.Image, or vtk.vtkImageData\n",
      "\n",
      ":param label_image: The label map to visualize. If an image is also provided, the label map must have the same size.\n",
      ":type  label_image: array_like, itk.Image, or vtk.vtkImageData\n",
      "\n",
      ":param label_blend: Label map blend with intensity image, from 0.0 to 1.0. default: 0.5\n",
      ":type  label_blend: float\n",
      "\n",
      ":param label_names: String names associated with the integer label values.\n",
      ":type  label_names: list of (label_value, label_name)\n",
      "\n",
      ":param label_lut: Lookup table for the label map. default: 'glasbey'\n",
      ":type  label_lut: string\n",
      "\n",
      ":param label_weights: The rendering weight assigned to current label. Values range from 0.0 to 1.0.\n",
      ":type  label_weights: float\n",
      "\n",
      ":param color_range: The [min, max] range of the data values mapped to colors for the given image component identified by name.\n",
      ":type  color_range: list, default: The [min, max] range of the data values\n",
      "\n",
      ":param vmin: Data values below vmin take the bottom color of the color map.\n",
      ":type  vmin: float\n",
      "\n",
      ":param vmax: Data values above vmax take the top color of the color map.\n",
      ":type  vmax: float\n",
      "\n",
      ":param color_bounds: The [min, max] range of the data values for color maps that provide a bounds for user inputs.\n",
      ":type  color_bounds: list, default: The [min, max] range of the data values\n",
      "\n",
      ":param cmap: The color map for the current component/channel. default: 'Grayscale'\n",
      ":type  cmap: string\n",
      "\n",
      ":param x_slice: The position in world space of the X slicing plane.\n",
      ":type  x_slice: float\n",
      "\n",
      ":param y_slice: The position in world space of the Y slicing plane.\n",
      ":type  y_slice: float\n",
      "\n",
      ":param z_slice: The position in world space of the Z slicing plane.\n",
      ":type  z_slice: float\n",
      "\n",
      ":param interpolation: Linear as opposed to nearest neighbor interpolation for image slices. Note: Interpolation is not currently supported with label maps. default: True\n",
      ":type  interpolation: bool\n",
      "\n",
      ":param gradient_opacity: Gradient opacity for composite volume rendering, in the range (0.0, 1.0]. default: 0.5\n",
      ":type  gradient_opacity: float\n",
      "\n",
      ":param gradient_opacity_scale: Gradient opacity scale for composite volume rendering, in the range (0.0, 1.0]. default: 0.5\n",
      ":type  gradient_opacity_scale: float\n",
      "\n",
      ":param gaussians: Volume rendering opacity transfer function Gaussian parameters. For each image component, multiple Gaussians can be specified. Default Gaussian parameters: {'position': 0.5, 'height': 1, 'width': 0.5, 'xBias': 0.51, 'yBias': 0.4}\n",
      ":type  gaussians: dict\n",
      "\n",
      ":param blend_mode: Volume rendering blend mode. Supported modes: 'Composite', 'Maximum', 'Minimum', 'Average'. default: 'Composite'\n",
      ":type  blend_mode: string\n",
      "\n",
      ":param component_visible: The given image intensity component index's visibility. default: True\n",
      ":type  component_visible: bool\n",
      "\n",
      ":param shadow_enabled: Whether to used gradient-based shadows in the volume rendering. default: True\n",
      ":type  shadow_enabled: bool\n",
      "\n",
      ":param view_mode: Only relevant for 3D scenes. Viewing mode: 'XPlane', 'YPlane', 'ZPlane', or 'Volume'. default: 'Volume'\n",
      ":type  view_mode: 'XPlane', 'YPlane', 'ZPlane', or 'Volume'\n",
      "\n",
      ":param layer: Select the layer identified by `name` in the user interface.\n",
      ":type  layer: string\n",
      "\n",
      ":param layer_visible: Whether the current layer is visible. default: True\n",
      ":type  layer_visible: bool\n",
      "\n",
      "### Point Set\n",
      "\n",
      ":param point_set: The point set to visualize.\n",
      ":type  point_set: array_like\n",
      "\n",
      "Other Parameters\n",
      "----------------\n",
      "\n",
      ":param sample_distance: Sampling distance for volume rendering, normalized from 0.0 to 1.0. Lower values result in a higher quality rendering. High values improve the framerate. default: 0.2\n",
      ":type  sample_distance: float\n",
      "\n",
      ":param units: Units to display in the scale bar.\n",
      ":type  units: string\n",
      "\n",
      "Returns\n",
      "-------\n",
      "\n",
      ":return: viewer, display by placing at the end of a Jupyter or Colab cell. Query or set properties on the object to change the visualization.\n",
      ":rtype:  Viewer\n",
      "\u001b[0;31mFile:\u001b[0m      /opt/conda/envs/spine/lib/python3.10/site-packages/itkwidgets/viewer.py\n",
      "\u001b[0;31mType:\u001b[0m      function"
     ]
    }
   ],
   "source": [
    "view?"
   ]
  },
  {
   "cell_type": "code",
   "execution_count": 6,
   "metadata": {},
   "outputs": [],
   "source": [
    "image  = sitk.ReadImage(\"/spine-segmentation/data/dataset/TrainingData/BraTS2021_00000/BraTS2021_00000_t1.nii.gz\")"
   ]
  },
  {
   "cell_type": "code",
   "execution_count": null,
   "metadata": {},
   "outputs": [],
   "source": [
    "image_viewer = sitk.ImageViewer()\n",
    "image_viewer.SetApplication(\"/usr/lib/snap-3.6.0/ITK-SNAP\")"
   ]
  },
  {
   "cell_type": "code",
   "execution_count": 7,
   "metadata": {},
   "outputs": [
    {
     "name": "stdout",
     "output_type": "stream",
     "text": [
      "Image (0x835f560)\n",
      "  RTTI typeinfo:   itk::Image<short, 3u>\n",
      "  Reference Count: 1\n",
      "  Modified Time: 2292\n",
      "  Debug: Off\n",
      "  Object Name: \n",
      "  Observers: \n",
      "    none\n",
      "  Source: (none)\n",
      "  Source output name: (none)\n",
      "  Release Data: Off\n",
      "  Data Released: False\n",
      "  Global Release Data: Off\n",
      "  PipelineMTime: 2269\n",
      "  UpdateMTime: 2288\n",
      "  RealTimeStamp: 0 seconds \n",
      "  LargestPossibleRegion: \n",
      "    Dimension: 3\n",
      "    Index: [0, 0, 0]\n",
      "    Size: [240, 240, 155]\n",
      "  BufferedRegion: \n",
      "    Dimension: 3\n",
      "    Index: [0, 0, 0]\n",
      "    Size: [240, 240, 155]\n",
      "  RequestedRegion: \n",
      "    Dimension: 3\n",
      "    Index: [0, 0, 0]\n",
      "    Size: [240, 240, 155]\n",
      "  Spacing: [1, 1, 1]\n",
      "  Origin: [-0, -239, 0]\n",
      "  Direction: \n",
      "1 0 0\n",
      "0 1 0\n",
      "0 0 1\n",
      "\n",
      "  IndexToPointMatrix: \n",
      "1 0 0\n",
      "0 1 0\n",
      "0 0 1\n",
      "\n",
      "  PointToIndexMatrix: \n",
      "1 0 0\n",
      "0 1 0\n",
      "0 0 1\n",
      "\n",
      "  Inverse Direction: \n",
      "1 0 0\n",
      "0 1 0\n",
      "0 0 1\n",
      "\n",
      "  PixelContainer: \n",
      "    ImportImageContainer (0x5bf7ec0)\n",
      "      RTTI typeinfo:   itk::ImportImageContainer<unsigned long, short>\n",
      "      Reference Count: 1\n",
      "      Modified Time: 2285\n",
      "      Debug: Off\n",
      "      Object Name: \n",
      "      Observers: \n",
      "        none\n",
      "      Pointer: 0x86775c0\n",
      "      Container manages memory: true\n",
      "      Size: 8928000\n",
      "      Capacity: 8928000\n",
      "\n"
     ]
    }
   ],
   "source": [
    "print(image)\n",
    "img = sitk.GetArrayFromImage(image)"
   ]
  },
  {
   "cell_type": "code",
   "execution_count": null,
   "metadata": {},
   "outputs": [],
   "source": []
  },
  {
   "cell_type": "code",
   "execution_count": 8,
   "metadata": {},
   "outputs": [
    {
     "data": {
      "text/html": [
       "<div />"
      ],
      "text/plain": [
       "<IPython.core.display.HTML object>"
      ]
     },
     "metadata": {},
     "output_type": "display_data"
    },
    {
     "data": {
      "application/javascript": "window.connectPlugin && window.connectPlugin(\"v2-107467XYpC69jdd6JK\")",
      "text/plain": [
       "<IPython.core.display.Javascript object>"
      ]
     },
     "metadata": {},
     "output_type": "display_data"
    },
    {
     "data": {
      "text/html": [
       "<div id=\"085e2790-e170-4dbe-95a6-2d1670d5f210\"></div>"
      ],
      "text/plain": [
       "<IPython.core.display.HTML object>"
      ]
     },
     "metadata": {},
     "output_type": "display_data"
    },
    {
     "data": {
      "text/plain": [
       "<itkwidgets.viewer.Viewer at 0x7f02a420f970>"
      ]
     },
     "execution_count": 8,
     "metadata": {},
     "output_type": "execute_result"
    },
    {
     "name": "stderr",
     "output_type": "stream",
     "text": [
      "Bad pipe message: %s [b'\"Not/A)Brand\";v=\"99\", \"Google Chrome\";v=\"115\", \"Chromium\"']\n",
      "Bad pipe message: %s [b'=\"115\"\\r\\nsec-ch-ua-mobile: ?0\\r\\nsec-ch-ua-platform: \"Linux\"\\r']\n",
      "Bad pipe message: %s [b'pgrade-In', b'cure-Requests: 1\\r\\nUser-Agent: Mozilla/5.0 (X11; Linux x86_64) AppleWebKit/537.36 (KHTML, like Gecko) Chrome/115.0.', b'0 Safari/537.36\\r\\nAccept: text/html,application/']\n",
      "Bad pipe message: %s [b'tml+xml,application/xml;q=0.9,image/avif,image/webp,image/apng,*/*;q=0.8,application/signed-exchange;v=b3;q=0.7\\r\\nSec-Fe']\n",
      "Bad pipe message: %s [b'ol: max-age=0\\r\\nsec-ch-ua: \"Not/A)Brand\";v=\"99\", \"Google Chrome\";v=\"115\", \"Chromium\";v=\"115\"\\r\\nsec-ch-ua-mobile: ?0\\r\\n']\n",
      "Bad pipe message: %s [b'c-ch-ua-platform: \"Linux\"\\r\\nUpgrade-Insecure-Requests: 1\\r\\nUser-Agent: Mozilla/5.0 (X11; Linux x86_64) AppleWebKit/5', b'.36 (KHTML, like Gecko) Chrome/115.0.0.0 Safari/53', b'36\\r\\nAccept: text/html,application/xhtml+xml,applicatio']\n",
      "Bad pipe message: %s [b'ol: max-age=0\\r\\nsec-ch-ua: \"Not/A)Brand\";v=\"99\", \"Google Chrome\";v=\"115\", \"Chromium\";v=\"115\"\\r\\nsec-ch-ua-mobile: ?0\\r\\n']\n",
      "Bad pipe message: %s [b'c-ch-ua-platform: \"Linux\"\\r\\nUpgrade-Insecure-Requests: 1\\r\\nUser-Agent: Mozilla/5.0 (X11; Linux x86_64) AppleWebKit/5', b'.36 (KHTML, like Gecko) Chrome/115.0.0.0 Safari/53', b'36\\r\\nAccept: text/html,application/xhtml+xml,applicatio']\n",
      "Bad pipe message: %s [b'\"Not/A)Brand\";v=\"99\", \"Google Chrome\";v=\"115\", \"Chromium\"']\n",
      "Bad pipe message: %s [b'=\"115\"\\r\\nsec-ch-ua-mobile: ?0\\r\\nsec-ch-ua-platform: \"Linux\"\\r']\n",
      "Bad pipe message: %s [b'pgrade-In', b'cure-Requests: 1\\r\\nUser-Agent: Mozilla/5.0 (X11; Linux x86_64) AppleWebKit/537.36 (KHTML, like Gecko) Chrome/115.0.', b'0 Safari/537.36\\r\\nAccept: text/html,application/']\n",
      "Bad pipe message: %s [b'tml+xml,application/xml;q=0.9,image/avif,image/webp,image/apng,*/*;q=0.8,application/signed-exchange;v=b3;q=0.7\\r\\nSec-Fe']\n",
      "Bad pipe message: %s [b'ol: max-age=0\\r\\nsec-ch-ua: \"Not/A)Brand\";v=\"99\", \"Google Chrome\";v=\"115\", \"Chromium\";v=\"115\"\\r\\nsec-ch-ua-mobile: ?0\\r\\n']\n",
      "Bad pipe message: %s [b'c-ch-ua-platform: \"Linux\"\\r\\nUpgrade-Insecure-Requests: 1\\r\\nUser-Agent: Mozilla/5.0 (X11; Linux x86_64) AppleWebKit/5', b'.36 (KHTML, like Gecko) Chrome/115.0.0.0 Safari/53', b'36\\r\\nAccept: text/html,application/xhtml+xml,applicatio']\n",
      "Bad pipe message: %s [b'ol: max-age=0\\r\\nsec-ch-ua: \"Not/A)Brand\";v=\"99\", \"Google Chrome\";v=\"115\", \"Chromium\";v=\"115\"\\r\\nsec-ch-ua-mobile: ?0\\r\\n']\n",
      "Bad pipe message: %s [b'c-ch-ua-platform: \"Linux\"\\r\\nUpgrade-Insecure-Requests: 1\\r\\nUser-Agent: Mozilla/5.0 (X11; Linux x86_64) AppleWebKit/5', b'.36 (KHTML, like Gecko) Chrome/115.0.0.0 Safari/53', b'36\\r\\nAccept: text/html,application/xhtml+xml,applicatio']\n",
      "Bad pipe message: %s [b'xml;q=0.9,image/avif,image/webp,image/apng,*/*;q=0.8,application/signed-exchange;v=b3;q=0.7\\r\\nSec-Fetch-Site: ', b'oss-site\\r\\nSec-Fetch-Mode: navigate\\r\\nSec-Fetch-User: ?1\\r\\nSec-Fetch-Dest: document\\r\\nAccept-Encoding:']\n",
      "Bad pipe message: %s [b'ol: max-age=0\\r\\nsec-ch-ua: \"Not/A)Brand\";v=\"99\", \"Google Chrome\";v=\"115\", \"Chromium\";v=\"115\"\\r\\nsec-ch-ua-mobile: ?0\\r\\n']\n",
      "Bad pipe message: %s [b'c-ch-ua-platform: \"Linux\"\\r\\nUpgrade-Insecure-Requests: 1\\r\\nUser-Agent: Mozilla/5.0 (X11; Linux x86_64) AppleWebKit/5', b'.36 (KHTML, like Gecko) Chrome/115.0.0.0 Safari/53', b'36\\r\\nAccept: text/html,application/xhtml+xml,applicatio']\n",
      "Bad pipe message: %s [b'xml;q=0.9,image/avif,image/webp,image/apng,*/*;q=0.8,application/signed-exchange;v=b3;q=0.7\\r\\nSec-Fetch-Site: ', b'oss-site\\r\\nSec-Fetch-Mode: navigate\\r\\nSec-Fetch-User: ?1\\r\\nSec-Fetch-Dest: document\\r\\nAccept-Encoding:']\n",
      "Bad pipe message: %s [b'ol: max-age=0\\r\\nsec-ch-ua: \"Not/A)Brand\";v=\"99\", \"Google Chrome\";v=\"115\", \"Chromium\";v=\"115\"\\r\\nsec-ch-ua-mobile: ?0\\r\\n']\n",
      "Bad pipe message: %s [b'c-ch-ua-platform: \"Linux\"\\r\\nUpgrade-Insecure-Requests: 1\\r\\nUser-Agent: Mozilla/5.0 (X11; Linux x86_64) AppleWebKit/5', b'.36 (KHTML, like Gecko) Chrome/115.0.0.0 Safari/53', b'36\\r\\nAccept: text/html,application/xhtml+xml,applicatio']\n",
      "Bad pipe message: %s [b'xml;q=0.9,image/avif,image/webp,image/apng,*/*;q=0.8,application/signed-exchange;v=b3;q=0.7\\r\\nSec-Fetch-Site: ', b'oss-site\\r\\nSec-Fetch-Mode: navigate\\r\\nSec-Fetch-Dest: document\\r\\nAccept-Encoding: gzip, deflate, br\\r\\n']\n"
     ]
    }
   ],
   "source": [
    "view(img)"
   ]
  },
  {
   "cell_type": "code",
   "execution_count": null,
   "metadata": {},
   "outputs": [],
   "source": []
  }
 ],
 "metadata": {
  "kernelspec": {
   "display_name": "spine",
   "language": "python",
   "name": "python3"
  },
  "language_info": {
   "codemirror_mode": {
    "name": "ipython",
    "version": 3
   },
   "file_extension": ".py",
   "mimetype": "text/x-python",
   "name": "python",
   "nbconvert_exporter": "python",
   "pygments_lexer": "ipython3",
   "version": "3.10.14"
  },
  "orig_nbformat": 4
 },
 "nbformat": 4,
 "nbformat_minor": 2
}
